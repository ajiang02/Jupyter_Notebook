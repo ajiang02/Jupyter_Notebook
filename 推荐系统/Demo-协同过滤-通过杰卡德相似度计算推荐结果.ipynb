{
 "cells": [
  {
   "cell_type": "code",
   "execution_count": 81,
   "id": "5a9b0cbe",
   "metadata": {},
   "outputs": [],
   "source": [
    "users = [\"User1\",\"User2\",\"User3\",\"User4\",\"User5\"]\n",
    "items = [\"ItemA\",\"ItemB\",\"ItemC\",\"ItemD\",\"ItemE\"]\n",
    "\n",
    "# 用户购买记录数据集\n",
    "datasets = [\n",
    "    [1,0,1,1,0],\n",
    "    [1,0,0,1,1],\n",
    "    [1,0,1,0,0],\n",
    "    [0,1,0,1,1],\n",
    "    [1,1,1,0,1]\n",
    "]"
   ]
  },
  {
   "cell_type": "code",
   "execution_count": 83,
   "id": "50f64e55",
   "metadata": {
    "direction": "rtl"
   },
   "outputs": [
    {
     "data": {
      "text/html": [
       "<div>\n",
       "<style scoped>\n",
       "    .dataframe tbody tr th:only-of-type {\n",
       "        vertical-align: middle;\n",
       "    }\n",
       "\n",
       "    .dataframe tbody tr th {\n",
       "        vertical-align: top;\n",
       "    }\n",
       "\n",
       "    .dataframe thead th {\n",
       "        text-align: right;\n",
       "    }\n",
       "</style>\n",
       "<table border=\"1\" class=\"dataframe\">\n",
       "  <thead>\n",
       "    <tr style=\"text-align: right;\">\n",
       "      <th></th>\n",
       "      <th>ItemA</th>\n",
       "      <th>ItemB</th>\n",
       "      <th>ItemC</th>\n",
       "      <th>ItemD</th>\n",
       "      <th>ItemE</th>\n",
       "    </tr>\n",
       "  </thead>\n",
       "  <tbody>\n",
       "    <tr>\n",
       "      <th>User1</th>\n",
       "      <td>1</td>\n",
       "      <td>0</td>\n",
       "      <td>1</td>\n",
       "      <td>1</td>\n",
       "      <td>0</td>\n",
       "    </tr>\n",
       "    <tr>\n",
       "      <th>User2</th>\n",
       "      <td>1</td>\n",
       "      <td>0</td>\n",
       "      <td>0</td>\n",
       "      <td>1</td>\n",
       "      <td>1</td>\n",
       "    </tr>\n",
       "    <tr>\n",
       "      <th>User3</th>\n",
       "      <td>1</td>\n",
       "      <td>0</td>\n",
       "      <td>1</td>\n",
       "      <td>0</td>\n",
       "      <td>0</td>\n",
       "    </tr>\n",
       "    <tr>\n",
       "      <th>User4</th>\n",
       "      <td>0</td>\n",
       "      <td>1</td>\n",
       "      <td>0</td>\n",
       "      <td>1</td>\n",
       "      <td>1</td>\n",
       "    </tr>\n",
       "    <tr>\n",
       "      <th>User5</th>\n",
       "      <td>1</td>\n",
       "      <td>1</td>\n",
       "      <td>1</td>\n",
       "      <td>0</td>\n",
       "      <td>1</td>\n",
       "    </tr>\n",
       "  </tbody>\n",
       "</table>\n",
       "</div>"
      ],
      "text/plain": [
       "       ItemA  ItemB  ItemC  ItemD  ItemE\n",
       "User1      1      0      1      1      0\n",
       "User2      1      0      0      1      1\n",
       "User3      1      0      1      0      0\n",
       "User4      0      1      0      1      1\n",
       "User5      1      1      1      0      1"
      ]
     },
     "execution_count": 83,
     "metadata": {},
     "output_type": "execute_result"
    }
   ],
   "source": [
    "import pandas as pd\n",
    "df = pd.DataFrame(datasets,columns=items,index=users)\n",
    "df"
   ]
  },
  {
   "cell_type": "code",
   "execution_count": 84,
   "id": "d89d7a33",
   "metadata": {},
   "outputs": [
    {
     "data": {
      "text/plain": [
       "0.2"
      ]
     },
     "execution_count": 84,
     "metadata": {},
     "output_type": "execute_result"
    }
   ],
   "source": [
    "# 计算某两项的杰卡德相似系数\n",
    "from sklearn.metrics import jaccard_score\n",
    "\n",
    "# 计算物品相似度\n",
    "jaccard_score(df['ItemA'],df['ItemB'])   # 并集 = 1 个,交集 = 5 个"
   ]
  },
  {
   "cell_type": "markdown",
   "id": "efbe2450",
   "metadata": {},
   "source": [
    "# User-Based CF\n",
    "\n",
    "基于用户的协同过滤"
   ]
  },
  {
   "cell_type": "code",
   "execution_count": 85,
   "id": "b80e5438",
   "metadata": {},
   "outputs": [
    {
     "name": "stderr",
     "output_type": "stream",
     "text": [
      "/usr/local/anaconda/lib/python3.8/site-packages/sklearn/metrics/pairwise.py:1776: DataConversionWarning: Data was converted to boolean for metric jaccard\n",
      "  warnings.warn(msg, DataConversionWarning)\n"
     ]
    },
    {
     "data": {
      "text/html": [
       "<div>\n",
       "<style scoped>\n",
       "    .dataframe tbody tr th:only-of-type {\n",
       "        vertical-align: middle;\n",
       "    }\n",
       "\n",
       "    .dataframe tbody tr th {\n",
       "        vertical-align: top;\n",
       "    }\n",
       "\n",
       "    .dataframe thead th {\n",
       "        text-align: right;\n",
       "    }\n",
       "</style>\n",
       "<table border=\"1\" class=\"dataframe\">\n",
       "  <thead>\n",
       "    <tr style=\"text-align: right;\">\n",
       "      <th></th>\n",
       "      <th>User1</th>\n",
       "      <th>User2</th>\n",
       "      <th>User3</th>\n",
       "      <th>User4</th>\n",
       "      <th>User5</th>\n",
       "    </tr>\n",
       "  </thead>\n",
       "  <tbody>\n",
       "    <tr>\n",
       "      <th>User1</th>\n",
       "      <td>1.000000</td>\n",
       "      <td>0.50</td>\n",
       "      <td>0.666667</td>\n",
       "      <td>0.2</td>\n",
       "      <td>0.4</td>\n",
       "    </tr>\n",
       "    <tr>\n",
       "      <th>User2</th>\n",
       "      <td>0.500000</td>\n",
       "      <td>1.00</td>\n",
       "      <td>0.250000</td>\n",
       "      <td>0.5</td>\n",
       "      <td>0.4</td>\n",
       "    </tr>\n",
       "    <tr>\n",
       "      <th>User3</th>\n",
       "      <td>0.666667</td>\n",
       "      <td>0.25</td>\n",
       "      <td>1.000000</td>\n",
       "      <td>0.0</td>\n",
       "      <td>0.5</td>\n",
       "    </tr>\n",
       "    <tr>\n",
       "      <th>User4</th>\n",
       "      <td>0.200000</td>\n",
       "      <td>0.50</td>\n",
       "      <td>0.000000</td>\n",
       "      <td>1.0</td>\n",
       "      <td>0.4</td>\n",
       "    </tr>\n",
       "    <tr>\n",
       "      <th>User5</th>\n",
       "      <td>0.400000</td>\n",
       "      <td>0.40</td>\n",
       "      <td>0.500000</td>\n",
       "      <td>0.4</td>\n",
       "      <td>1.0</td>\n",
       "    </tr>\n",
       "  </tbody>\n",
       "</table>\n",
       "</div>"
      ],
      "text/plain": [
       "          User1  User2     User3  User4  User5\n",
       "User1  1.000000   0.50  0.666667    0.2    0.4\n",
       "User2  0.500000   1.00  0.250000    0.5    0.4\n",
       "User3  0.666667   0.25  1.000000    0.0    0.5\n",
       "User4  0.200000   0.50  0.000000    1.0    0.4\n",
       "User5  0.400000   0.40  0.500000    0.4    1.0"
      ]
     },
     "execution_count": 85,
     "metadata": {},
     "output_type": "execute_result"
    }
   ],
   "source": [
    "# 计算两两数据的杰卡德相似系数\n",
    "from sklearn.metrics.pairwise import pairwise_distances\n",
    "\n",
    "# 计算用户间的杰卡德相似系数。 杰卡德相似系数 = 1 - 杰卡德距离\n",
    "user_similar = 1 - pairwise_distances(df.values, metric='jaccard')\n",
    "user_similar = pd.DataFrame(user_similar,columns=users,index=users)\n",
    "user_similar"
   ]
  },
  {
   "cell_type": "code",
   "execution_count": 53,
   "id": "7b748e38",
   "metadata": {},
   "outputs": [
    {
     "data": {
      "text/plain": [
       "{'User1': ['User3', 'User2'],\n",
       " 'User2': ['User1', 'User4'],\n",
       " 'User3': ['User1', 'User5'],\n",
       " 'User4': ['User2', 'User5'],\n",
       " 'User5': ['User3', 'User1']}"
      ]
     },
     "execution_count": 53,
     "metadata": {},
     "output_type": "execute_result"
    }
   ],
   "source": [
    "# 存储每个与用户最相似的2个用户\n",
    "top2_users = {}\n",
    "\n",
    "# 为每个用户找到最相似的两个用户\n",
    "for u in user_similar.index:\n",
    "    _df = user_similar.loc[u].drop([u])           # 取出每一列数据，删除自己\n",
    "    _df_sorted = _df.sort_values(ascending=False) # 将相似度按照降序排序\n",
    "    top2_users[u] = list(_df_sorted.index[:2])    # 取出相似度最高的2个用户\n",
    "\n",
    "# 输出\n",
    "top2_users"
   ]
  },
  {
   "cell_type": "code",
   "execution_count": 77,
   "id": "80802dcb",
   "metadata": {},
   "outputs": [],
   "source": [
    "import numpy as np\n",
    "\n",
    "# 储存推荐结果\n",
    "recommended_results = {}\n",
    "\n",
    "# 根据 top2_users 构建推荐结果\n",
    "for u,sim_users in top2_users.items():                       # items():返回可遍历的(键, 值) 元组数组\n",
    "    rc_res = set()                                           # 存储每个用户的推荐结果\n",
    "    for sim_user in sim_users:\n",
    "        _item = df.loc[sim_user].replace(0,np.nan).dropna()  # 去 df 找当前相似用户的购买记录，将 0 转换为 Nan，并删除\n",
    "        rc_res = rc_res.union(set(_item.index))              # 将相似用户买过的物品放入 \n",
    "        \n",
    "    # 过滤掉当前用户已经买过的物品\n",
    "    rc_res -= set(df.loc[u].replace(0,np.nan).dropna().index)\n",
    "    recommended_results[u] = rc_res"
   ]
  },
  {
   "cell_type": "code",
   "execution_count": 78,
   "id": "311d62a4",
   "metadata": {},
   "outputs": [
    {
     "data": {
      "text/plain": [
       "{'User1': {'ItemE'},\n",
       " 'User2': {'ItemB', 'ItemC'},\n",
       " 'User3': {'ItemB', 'ItemD', 'ItemE'},\n",
       " 'User4': {'ItemA', 'ItemC'},\n",
       " 'User5': {'ItemD'}}"
      ]
     },
     "execution_count": 78,
     "metadata": {},
     "output_type": "execute_result"
    }
   ],
   "source": [
    "recommended_results"
   ]
  },
  {
   "cell_type": "markdown",
   "id": "645278ce",
   "metadata": {},
   "source": [
    "# Item-Based CF\n",
    "\n",
    "基于物品的协同过滤"
   ]
  },
  {
   "cell_type": "code",
   "execution_count": 98,
   "id": "d9f3ccb2",
   "metadata": {},
   "outputs": [
    {
     "name": "stderr",
     "output_type": "stream",
     "text": [
      "/usr/local/anaconda/lib/python3.8/site-packages/sklearn/metrics/pairwise.py:1776: DataConversionWarning: Data was converted to boolean for metric jaccard\n",
      "  warnings.warn(msg, DataConversionWarning)\n"
     ]
    },
    {
     "data": {
      "text/html": [
       "<div>\n",
       "<style scoped>\n",
       "    .dataframe tbody tr th:only-of-type {\n",
       "        vertical-align: middle;\n",
       "    }\n",
       "\n",
       "    .dataframe tbody tr th {\n",
       "        vertical-align: top;\n",
       "    }\n",
       "\n",
       "    .dataframe thead th {\n",
       "        text-align: right;\n",
       "    }\n",
       "</style>\n",
       "<table border=\"1\" class=\"dataframe\">\n",
       "  <thead>\n",
       "    <tr style=\"text-align: right;\">\n",
       "      <th></th>\n",
       "      <th>ItemA</th>\n",
       "      <th>ItemB</th>\n",
       "      <th>ItemC</th>\n",
       "      <th>ItemD</th>\n",
       "      <th>ItemE</th>\n",
       "    </tr>\n",
       "  </thead>\n",
       "  <tbody>\n",
       "    <tr>\n",
       "      <th>ItemA</th>\n",
       "      <td>1.00</td>\n",
       "      <td>0.200000</td>\n",
       "      <td>0.75</td>\n",
       "      <td>0.40</td>\n",
       "      <td>0.400000</td>\n",
       "    </tr>\n",
       "    <tr>\n",
       "      <th>ItemB</th>\n",
       "      <td>0.20</td>\n",
       "      <td>1.000000</td>\n",
       "      <td>0.25</td>\n",
       "      <td>0.25</td>\n",
       "      <td>0.666667</td>\n",
       "    </tr>\n",
       "    <tr>\n",
       "      <th>ItemC</th>\n",
       "      <td>0.75</td>\n",
       "      <td>0.250000</td>\n",
       "      <td>1.00</td>\n",
       "      <td>0.20</td>\n",
       "      <td>0.200000</td>\n",
       "    </tr>\n",
       "    <tr>\n",
       "      <th>ItemD</th>\n",
       "      <td>0.40</td>\n",
       "      <td>0.250000</td>\n",
       "      <td>0.20</td>\n",
       "      <td>1.00</td>\n",
       "      <td>0.500000</td>\n",
       "    </tr>\n",
       "    <tr>\n",
       "      <th>ItemE</th>\n",
       "      <td>0.40</td>\n",
       "      <td>0.666667</td>\n",
       "      <td>0.20</td>\n",
       "      <td>0.50</td>\n",
       "      <td>1.000000</td>\n",
       "    </tr>\n",
       "  </tbody>\n",
       "</table>\n",
       "</div>"
      ],
      "text/plain": [
       "       ItemA     ItemB  ItemC  ItemD     ItemE\n",
       "ItemA   1.00  0.200000   0.75   0.40  0.400000\n",
       "ItemB   0.20  1.000000   0.25   0.25  0.666667\n",
       "ItemC   0.75  0.250000   1.00   0.20  0.200000\n",
       "ItemD   0.40  0.250000   0.20   1.00  0.500000\n",
       "ItemE   0.40  0.666667   0.20   0.50  1.000000"
      ]
     },
     "execution_count": 98,
     "metadata": {},
     "output_type": "execute_result"
    }
   ],
   "source": [
    "# 计算物品间的杰卡德相似系数。需要先将 df 翻转，将 Item 作为行。\n",
    "item_similar = 1 - pairwise_distances(df.values.T,metric='jaccard')\n",
    "item_similar = pd.DataFrame(item_similar,columns=items,index=items)\n",
    "item_similar"
   ]
  },
  {
   "cell_type": "code",
   "execution_count": 89,
   "id": "abf09712",
   "metadata": {},
   "outputs": [
    {
     "data": {
      "text/plain": [
       "{'ItemA': ['ItemC', 'ItemD'],\n",
       " 'ItemB': ['ItemE', 'ItemC'],\n",
       " 'ItemC': ['ItemA', 'ItemB'],\n",
       " 'ItemD': ['ItemE', 'ItemA'],\n",
       " 'ItemE': ['ItemB', 'ItemD']}"
      ]
     },
     "execution_count": 89,
     "metadata": {},
     "output_type": "execute_result"
    }
   ],
   "source": [
    "# 存储每个与物品最相似的两个物品\n",
    "top2_items = {}\n",
    "\n",
    "for i in item_similar.index:\n",
    "    _df = item_similar.loc[i].drop([i])           # 删除自己\n",
    "    _df_sorted = _df.sort_values(ascending=False) # 排序\n",
    "    top2_items[i] = list(_df_sorted.index[:2])    # 取最相似的两个物品\n",
    "    \n",
    "top2_items"
   ]
  },
  {
   "cell_type": "code",
   "execution_count": 95,
   "id": "999e1b87",
   "metadata": {},
   "outputs": [],
   "source": [
    "# 储存推荐结果\n",
    "recommended_results = {}\n",
    "\n",
    "# 遍历所有用户构建推荐结果\n",
    "for u in df.index:\n",
    "    rc_res = set()  # 存储推荐结果\n",
    "    \n",
    "    have_to_buy = df.loc[u].replace(0,np.nan).dropna().index # 取出用户已购买物品的列表\n",
    "    for i in have_to_buy:\n",
    "        rc_res = rc_res.union(top2_items[i])               # 根据买过的物品，找到其最相似的物品，构建推荐结果\n",
    "        \n",
    "    # 过滤掉用户已经购买过的物品\n",
    "    rc_res -= set(df.loc[u].replace(0,np.nan).dropna().index)\n",
    "    recommended_results[u] = rc_res"
   ]
  },
  {
   "cell_type": "code",
   "execution_count": 96,
   "id": "6e224d88",
   "metadata": {},
   "outputs": [
    {
     "data": {
      "text/plain": [
       "{'User1': {'ItemB', 'ItemE'},\n",
       " 'User2': {'ItemB', 'ItemC'},\n",
       " 'User3': {'ItemB', 'ItemD'},\n",
       " 'User4': {'ItemA', 'ItemC'},\n",
       " 'User5': {'ItemD'}}"
      ]
     },
     "execution_count": 96,
     "metadata": {},
     "output_type": "execute_result"
    }
   ],
   "source": [
    "recommended_results"
   ]
  }
 ],
 "metadata": {
  "kernelspec": {
   "display_name": "Python 3",
   "language": "python",
   "name": "python3"
  },
  "language_info": {
   "codemirror_mode": {
    "name": "ipython",
    "version": 3
   },
   "file_extension": ".py",
   "mimetype": "text/x-python",
   "name": "python",
   "nbconvert_exporter": "python",
   "pygments_lexer": "ipython3",
   "version": "3.8.8"
  }
 },
 "nbformat": 4,
 "nbformat_minor": 5
}
