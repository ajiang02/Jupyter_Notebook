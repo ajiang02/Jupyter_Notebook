{
 "cells": [
  {
   "cell_type": "code",
   "execution_count": 13,
   "id": "e3c90d7c",
   "metadata": {},
   "outputs": [
    {
     "data": {
      "text/html": [
       "<div>\n",
       "<style scoped>\n",
       "    .dataframe tbody tr th:only-of-type {\n",
       "        vertical-align: middle;\n",
       "    }\n",
       "\n",
       "    .dataframe tbody tr th {\n",
       "        vertical-align: top;\n",
       "    }\n",
       "\n",
       "    .dataframe thead th {\n",
       "        text-align: right;\n",
       "    }\n",
       "</style>\n",
       "<table border=\"1\" class=\"dataframe\">\n",
       "  <thead>\n",
       "    <tr style=\"text-align: right;\">\n",
       "      <th></th>\n",
       "      <th>ItemA</th>\n",
       "      <th>ItemB</th>\n",
       "      <th>ItemC</th>\n",
       "      <th>ItemD</th>\n",
       "      <th>ItemE</th>\n",
       "    </tr>\n",
       "  </thead>\n",
       "  <tbody>\n",
       "    <tr>\n",
       "      <th>User1</th>\n",
       "      <td>5</td>\n",
       "      <td>3</td>\n",
       "      <td>4</td>\n",
       "      <td>4</td>\n",
       "      <td>NaN</td>\n",
       "    </tr>\n",
       "    <tr>\n",
       "      <th>User2</th>\n",
       "      <td>3</td>\n",
       "      <td>1</td>\n",
       "      <td>2</td>\n",
       "      <td>3</td>\n",
       "      <td>3.0</td>\n",
       "    </tr>\n",
       "    <tr>\n",
       "      <th>User3</th>\n",
       "      <td>4</td>\n",
       "      <td>3</td>\n",
       "      <td>4</td>\n",
       "      <td>3</td>\n",
       "      <td>5.0</td>\n",
       "    </tr>\n",
       "    <tr>\n",
       "      <th>User4</th>\n",
       "      <td>3</td>\n",
       "      <td>3</td>\n",
       "      <td>1</td>\n",
       "      <td>5</td>\n",
       "      <td>4.0</td>\n",
       "    </tr>\n",
       "    <tr>\n",
       "      <th>User5</th>\n",
       "      <td>1</td>\n",
       "      <td>5</td>\n",
       "      <td>5</td>\n",
       "      <td>2</td>\n",
       "      <td>1.0</td>\n",
       "    </tr>\n",
       "  </tbody>\n",
       "</table>\n",
       "</div>"
      ],
      "text/plain": [
       "       ItemA  ItemB  ItemC  ItemD  ItemE\n",
       "User1      5      3      4      4    NaN\n",
       "User2      3      1      2      3    3.0\n",
       "User3      4      3      4      3    5.0\n",
       "User4      3      3      1      5    4.0\n",
       "User5      1      5      5      2    1.0"
      ]
     },
     "execution_count": 13,
     "metadata": {},
     "output_type": "execute_result"
    }
   ],
   "source": [
    "import pandas as pd\n",
    "\n",
    "users = [\"User1\",\"User2\",\"User3\",\"User4\",\"User5\"]\n",
    "items = [\"ItemA\",\"ItemB\",\"ItemC\",\"ItemD\",\"ItemE\"]\n",
    "\n",
    "# 评分数据\n",
    "datasets = [\n",
    "    [5,3,4,4,None],\n",
    "    [3,1,2,3,3],\n",
    "    [4,3,4,3,5],\n",
    "    [3,3,1,5,4],\n",
    "    [1,5,5,2,1]\n",
    "]\n",
    "df = pd.DataFrame(datasets,columns=items,index=users)\n",
    "df"
   ]
  },
  {
   "cell_type": "markdown",
   "id": "ecd8142d",
   "metadata": {},
   "source": [
    "## 皮尔逊相关系数\n",
    "\n",
    "对于稠密数据，采用皮尔逊相关系数来计算。\n",
    "[ -1 , 1 ]，-1 表示强负相关，+1 表示强正相关\n",
    "pandas 中的 corr() 可直接用于计算皮尔逊相关系数。"
   ]
  },
  {
   "cell_type": "markdown",
   "id": "40d2bf16",
   "metadata": {},
   "source": [
    "## 基于用户的评分预测"
   ]
  },
  {
   "cell_type": "code",
   "execution_count": 14,
   "id": "fa7da550",
   "metadata": {},
   "outputs": [
    {
     "data": {
      "text/html": [
       "<div>\n",
       "<style scoped>\n",
       "    .dataframe tbody tr th:only-of-type {\n",
       "        vertical-align: middle;\n",
       "    }\n",
       "\n",
       "    .dataframe tbody tr th {\n",
       "        vertical-align: top;\n",
       "    }\n",
       "\n",
       "    .dataframe thead th {\n",
       "        text-align: right;\n",
       "    }\n",
       "</style>\n",
       "<table border=\"1\" class=\"dataframe\">\n",
       "  <thead>\n",
       "    <tr style=\"text-align: right;\">\n",
       "      <th></th>\n",
       "      <th>User1</th>\n",
       "      <th>User2</th>\n",
       "      <th>User3</th>\n",
       "      <th>User4</th>\n",
       "      <th>User5</th>\n",
       "    </tr>\n",
       "  </thead>\n",
       "  <tbody>\n",
       "    <tr>\n",
       "      <th>User1</th>\n",
       "      <td>1.0000</td>\n",
       "      <td>0.8528</td>\n",
       "      <td>0.7071</td>\n",
       "      <td>0.0000</td>\n",
       "      <td>-0.7921</td>\n",
       "    </tr>\n",
       "    <tr>\n",
       "      <th>User2</th>\n",
       "      <td>0.8528</td>\n",
       "      <td>1.0000</td>\n",
       "      <td>0.4677</td>\n",
       "      <td>0.4900</td>\n",
       "      <td>-0.9001</td>\n",
       "    </tr>\n",
       "    <tr>\n",
       "      <th>User3</th>\n",
       "      <td>0.7071</td>\n",
       "      <td>0.4677</td>\n",
       "      <td>1.0000</td>\n",
       "      <td>-0.1612</td>\n",
       "      <td>-0.4666</td>\n",
       "    </tr>\n",
       "    <tr>\n",
       "      <th>User4</th>\n",
       "      <td>0.0000</td>\n",
       "      <td>0.4900</td>\n",
       "      <td>-0.1612</td>\n",
       "      <td>1.0000</td>\n",
       "      <td>-0.6415</td>\n",
       "    </tr>\n",
       "    <tr>\n",
       "      <th>User5</th>\n",
       "      <td>-0.7921</td>\n",
       "      <td>-0.9001</td>\n",
       "      <td>-0.4666</td>\n",
       "      <td>-0.6415</td>\n",
       "      <td>1.0000</td>\n",
       "    </tr>\n",
       "  </tbody>\n",
       "</table>\n",
       "</div>"
      ],
      "text/plain": [
       "        User1   User2   User3   User4   User5\n",
       "User1  1.0000  0.8528  0.7071  0.0000 -0.7921\n",
       "User2  0.8528  1.0000  0.4677  0.4900 -0.9001\n",
       "User3  0.7071  0.4677  1.0000 -0.1612 -0.4666\n",
       "User4  0.0000  0.4900 -0.1612  1.0000 -0.6415\n",
       "User5 -0.7921 -0.9001 -0.4666 -0.6415  1.0000"
      ]
     },
     "execution_count": 14,
     "metadata": {},
     "output_type": "execute_result"
    }
   ],
   "source": [
    "# corr() 默认按列计算，如果计算用户间的相似度，需要转置。\n",
    "user_similar = df.T.corr()\n",
    "user_similar.round(4)"
   ]
  },
  {
   "cell_type": "markdown",
   "id": "6f88d4b2",
   "metadata": {},
   "source": [
    "$$\n",
    "pred(u,i)=\\hat{r}_{ui}=\\cfrac{\\sum_{v\\in U}sim(u,v)*r_{vi}}{\\sum_{v\\in U}|sim(u,v)|}\n",
    "$$"
   ]
  },
  {
   "cell_type": "code",
   "execution_count": 22,
   "id": "d3b18333",
   "metadata": {},
   "outputs": [
    {
     "data": {
      "text/plain": [
       "3.906596576703635"
      ]
     },
     "execution_count": 22,
     "metadata": {},
     "output_type": "execute_result"
    }
   ],
   "source": [
    "# 预测 User1 对物品 E 的评分\n",
    "\n",
    "# 1.选择与 User1 最相似的两个用户：User2、User3\n",
    "# 2.计算相似用户对 ItemE 的加权平均相似度。\n",
    "\n",
    "res = ((0.8528 * 3) + (0.7071 * 5)) / (0.8528 +0.7071)\n",
    "res"
   ]
  },
  {
   "cell_type": "markdown",
   "id": "d8ed2f6d",
   "metadata": {},
   "source": [
    "## 基于物品的评分预测"
   ]
  },
  {
   "cell_type": "code",
   "execution_count": 16,
   "id": "6d287345",
   "metadata": {},
   "outputs": [
    {
     "data": {
      "text/html": [
       "<div>\n",
       "<style scoped>\n",
       "    .dataframe tbody tr th:only-of-type {\n",
       "        vertical-align: middle;\n",
       "    }\n",
       "\n",
       "    .dataframe tbody tr th {\n",
       "        vertical-align: top;\n",
       "    }\n",
       "\n",
       "    .dataframe thead th {\n",
       "        text-align: right;\n",
       "    }\n",
       "</style>\n",
       "<table border=\"1\" class=\"dataframe\">\n",
       "  <thead>\n",
       "    <tr style=\"text-align: right;\">\n",
       "      <th></th>\n",
       "      <th>ItemA</th>\n",
       "      <th>ItemB</th>\n",
       "      <th>ItemC</th>\n",
       "      <th>ItemD</th>\n",
       "      <th>ItemE</th>\n",
       "    </tr>\n",
       "  </thead>\n",
       "  <tbody>\n",
       "    <tr>\n",
       "      <th>ItemA</th>\n",
       "      <td>1.0000</td>\n",
       "      <td>-0.4767</td>\n",
       "      <td>-0.1231</td>\n",
       "      <td>0.5322</td>\n",
       "      <td>0.9695</td>\n",
       "    </tr>\n",
       "    <tr>\n",
       "      <th>ItemB</th>\n",
       "      <td>-0.4767</td>\n",
       "      <td>1.0000</td>\n",
       "      <td>0.6455</td>\n",
       "      <td>-0.3101</td>\n",
       "      <td>-0.4781</td>\n",
       "    </tr>\n",
       "    <tr>\n",
       "      <th>ItemC</th>\n",
       "      <td>-0.1231</td>\n",
       "      <td>0.6455</td>\n",
       "      <td>1.0000</td>\n",
       "      <td>-0.7206</td>\n",
       "      <td>-0.4276</td>\n",
       "    </tr>\n",
       "    <tr>\n",
       "      <th>ItemD</th>\n",
       "      <td>0.5322</td>\n",
       "      <td>-0.3101</td>\n",
       "      <td>-0.7206</td>\n",
       "      <td>1.0000</td>\n",
       "      <td>0.5817</td>\n",
       "    </tr>\n",
       "    <tr>\n",
       "      <th>ItemE</th>\n",
       "      <td>0.9695</td>\n",
       "      <td>-0.4781</td>\n",
       "      <td>-0.4276</td>\n",
       "      <td>0.5817</td>\n",
       "      <td>1.0000</td>\n",
       "    </tr>\n",
       "  </tbody>\n",
       "</table>\n",
       "</div>"
      ],
      "text/plain": [
       "        ItemA   ItemB   ItemC   ItemD   ItemE\n",
       "ItemA  1.0000 -0.4767 -0.1231  0.5322  0.9695\n",
       "ItemB -0.4767  1.0000  0.6455 -0.3101 -0.4781\n",
       "ItemC -0.1231  0.6455  1.0000 -0.7206 -0.4276\n",
       "ItemD  0.5322 -0.3101 -0.7206  1.0000  0.5817\n",
       "ItemE  0.9695 -0.4781 -0.4276  0.5817  1.0000"
      ]
     },
     "execution_count": 16,
     "metadata": {},
     "output_type": "execute_result"
    }
   ],
   "source": [
    "item_similar = df.corr()\n",
    "item_similar.round(4)"
   ]
  },
  {
   "cell_type": "markdown",
   "id": "f9468e53",
   "metadata": {},
   "source": [
    "$$\n",
    "pred(u,i)=\\hat{r}_{ui}=\\cfrac{\\sum_{j\\in I_{rated}} sim(i,j)*r_{uj}}{\\sum_{j\\in I_{rated}}|sim(i,j)|}\n",
    "$$"
   ]
  },
  {
   "cell_type": "code",
   "execution_count": 23,
   "id": "345e77a8",
   "metadata": {},
   "outputs": [
    {
     "data": {
      "text/plain": [
       "4.625"
      ]
     },
     "execution_count": 23,
     "metadata": {},
     "output_type": "execute_result"
    }
   ],
   "source": [
    "# 预测 User1 对物品 E 的评分\n",
    "\n",
    "# 1.选择与物品 E 最相似的两个物品：ItemA、ItemD\n",
    "# 2.计算 User1 对相似物品的加权平均相似度。\n",
    "\n",
    "res = ((0.9695 * 5) + (0.5817 * 4)) / (0.9695 +0.5817)\n",
    "res"
   ]
  },
  {
   "cell_type": "markdown",
   "id": "b18576cf",
   "metadata": {},
   "source": [
    "## 总结\n",
    "\n",
    "基于用户和基于物品的协同过滤在实践中可以都做出来，对比效果，选择最恰当的。"
   ]
  }
 ],
 "metadata": {
  "kernelspec": {
   "display_name": "Python 3",
   "language": "python",
   "name": "python3"
  },
  "language_info": {
   "codemirror_mode": {
    "name": "ipython",
    "version": 3
   },
   "file_extension": ".py",
   "mimetype": "text/x-python",
   "name": "python",
   "nbconvert_exporter": "python",
   "pygments_lexer": "ipython3",
   "version": "3.8.8"
  }
 },
 "nbformat": 4,
 "nbformat_minor": 5
}
