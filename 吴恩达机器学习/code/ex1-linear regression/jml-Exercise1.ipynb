{
 "cells": [
  {
   "cell_type": "code",
   "execution_count": 17,
   "id": "4f6d6e70",
   "metadata": {},
   "outputs": [],
   "source": [
    "import numpy.matlib\n",
    "import numpy as np\n",
    "import pandas as pd"
   ]
  },
  {
   "cell_type": "markdown",
   "id": "a5119b85",
   "metadata": {},
   "source": [
    "# Numpy矩阵库"
   ]
  },
  {
   "cell_type": "markdown",
   "id": "cdef8c46",
   "metadata": {},
   "source": [
    "## eye()"
   ]
  },
  {
   "cell_type": "code",
   "execution_count": 50,
   "id": "0d743f22",
   "metadata": {},
   "outputs": [
    {
     "name": "stdout",
     "output_type": "stream",
     "text": [
      "[[1 0 0 0 0]\n",
      " [0 1 0 0 0]\n",
      " [0 0 1 0 0]\n",
      " [0 0 0 1 0]]\n"
     ]
    }
   ],
   "source": [
    "# 4*5，对角线为1的矩阵\n",
    "fiveByfiveMatrix = np.matlib.eye(4,5,0, dtype=np.int32)\n",
    "print(fiveByfiveMatrix)"
   ]
  },
  {
   "cell_type": "markdown",
   "id": "e9d89f0b",
   "metadata": {},
   "source": [
    "## ones()"
   ]
  },
  {
   "cell_type": "code",
   "execution_count": 49,
   "id": "dc942a08",
   "metadata": {},
   "outputs": [
    {
     "name": "stdout",
     "output_type": "stream",
     "text": [
      "[[1 1]\n",
      " [1 1]]\n"
     ]
    }
   ],
   "source": [
    "onesMatrix = np.matlib.ones((2,2), dtype=np.int32)\n",
    "print(onesMatrix)"
   ]
  },
  {
   "cell_type": "markdown",
   "id": "35346220",
   "metadata": {},
   "source": [
    "## zeros()"
   ]
  },
  {
   "cell_type": "code",
   "execution_count": 53,
   "id": "4d7ae4b2",
   "metadata": {},
   "outputs": [
    {
     "name": "stdout",
     "output_type": "stream",
     "text": [
      "[[0 0]\n",
      " [0 0]\n",
      " [0 0]]\n"
     ]
    }
   ],
   "source": [
    "zerosMatrix = np.matlib.zeros((3,2), dtype=np.int16)\n",
    "print(zerosMatrix)"
   ]
  },
  {
   "cell_type": "markdown",
   "id": "dd08dfa3",
   "metadata": {},
   "source": [
    "## identity()"
   ]
  },
  {
   "cell_type": "code",
   "execution_count": 42,
   "id": "7f4b6980",
   "metadata": {},
   "outputs": [
    {
     "data": {
      "text/plain": [
       "matrix([[1., 0., 0., 0., 0.],\n",
       "        [0., 1., 0., 0., 0.],\n",
       "        [0., 0., 1., 0., 0.],\n",
       "        [0., 0., 0., 1., 0.],\n",
       "        [0., 0., 0., 0., 1.]], dtype=float32)"
      ]
     },
     "execution_count": 42,
     "metadata": {},
     "output_type": "execute_result"
    }
   ],
   "source": [
    "# 5*5，单位矩阵\n",
    "IdentityMatrix = np.matlib.identity(5,dtype=np.float32)\n",
    "IdentityMatrix"
   ]
  },
  {
   "cell_type": "markdown",
   "id": "29b211f0",
   "metadata": {},
   "source": [
    "# 绘制散点图"
   ]
  },
  {
   "cell_type": "code",
   "execution_count": 113,
   "id": "d86c2cc7",
   "metadata": {},
   "outputs": [
    {
     "data": {
      "image/png": "[encoded data removed]",
      "text/plain": [
       "<Figure size 1080x576 with 1 Axes>"
      ]
     },
     "metadata": {
      "needs_background": "light"
     },
     "output_type": "display_data"
    }
   ],
   "source": [
    "# 读取文件，默认以第一行数据作为表头，故需要指定 names\n",
    "demo = pd.read_csv('ex1data1.txt', names=['Population', 'Profit'])\n",
    "\n",
    "# 数据集前几条\n",
    "# data.head()\n",
    "\n",
    "# 数据详情\n",
    "#data.describe()\n",
    "\n",
    "# api文档：https://www.gairuo.com/p/pandas-tutorial\n",
    "# x y 的值要和 names 一样\n",
    "df = demo.plot.scatter(x='Population', y='Profit', figsize=(15,8))"
   ]
  },
  {
   "cell_type": "markdown",
   "id": "ca1883c4",
   "metadata": {},
   "source": [
    "# Gradient Descent"
   ]
  },
  {
   "cell_type": "markdown",
   "id": "904968aa",
   "metadata": {},
   "source": [
    "## Cost Function\n",
    "\n",
    "以参数 θ 为特征函数的代价函数\n",
    "$$J\\left( \\theta  \\right)=\\frac{1}{2m}\\sum\\limits_{i=1}^{m}{{{\\left( {{h}_{\\theta }}\\left( {{x}^{(i)}} \\right)-{{y}^{(i)}} \\right)}^{2}}}$$\n",
    "\n",
    "## Hypothesis Function\n",
    "\\\\[{{h}_{\\theta }}\\left( x \\right)={{\\theta }^{T}}X={{\\theta }_{0}}{{x}_{0}}+{{\\theta }_{1}}{{x}_{1}}+{{\\theta }_{2}}{{x}_{2}}+...+{{\\theta }_{n}}{{x}_{n}}\\\\] "
   ]
  },
  {
   "cell_type": "markdown",
   "id": "1fdea5a6",
   "metadata": {},
   "source": [
    "# 单变量线性回归"
   ]
  },
  {
   "cell_type": "code",
   "execution_count": 148,
   "id": "a88e5182",
   "metadata": {},
   "outputs": [],
   "source": [
    "\"\"\"\n",
    "实现代价函数\n",
    "\n",
    ":param X     训练集中 x0 和 x1-Population 的所有值\n",
    ":param y     训练集中 'y-Profit 的所有值\n",
    ":param theta 特征变量，初始值为 [0 ,0]\n",
    "\"\"\"\n",
    "def computerCost(X, y, theta):\n",
    "    \n",
    "    inner = X @ theta - y        # X @ theta 表叉乘\n",
    "    square_sum = inner.T @ inner # 求平方和\n",
    "\n",
    "    return square_sum / (2 * len(X))  # len(X) 等于样本数 m"
   ]
  },
  {
   "cell_type": "code",
   "execution_count": 149,
   "id": "a7440353",
   "metadata": {},
   "outputs": [
    {
     "data": {
      "text/html": [
       "<div>\n",
       "<style scoped>\n",
       "    .dataframe tbody tr th:only-of-type {\n",
       "        vertical-align: middle;\n",
       "    }\n",
       "\n",
       "    .dataframe tbody tr th {\n",
       "        vertical-align: top;\n",
       "    }\n",
       "\n",
       "    .dataframe thead th {\n",
       "        text-align: right;\n",
       "    }\n",
       "</style>\n",
       "<table border=\"1\" class=\"dataframe\">\n",
       "  <thead>\n",
       "    <tr style=\"text-align: right;\">\n",
       "      <th></th>\n",
       "      <th>x0</th>\n",
       "      <th>x1-Population</th>\n",
       "      <th>y-Profit</th>\n",
       "    </tr>\n",
       "  </thead>\n",
       "  <tbody>\n",
       "    <tr>\n",
       "      <th>0</th>\n",
       "      <td>1</td>\n",
       "      <td>6.1101</td>\n",
       "      <td>17.5920</td>\n",
       "    </tr>\n",
       "    <tr>\n",
       "      <th>1</th>\n",
       "      <td>1</td>\n",
       "      <td>5.5277</td>\n",
       "      <td>9.1302</td>\n",
       "    </tr>\n",
       "    <tr>\n",
       "      <th>2</th>\n",
       "      <td>1</td>\n",
       "      <td>8.5186</td>\n",
       "      <td>13.6620</td>\n",
       "    </tr>\n",
       "    <tr>\n",
       "      <th>3</th>\n",
       "      <td>1</td>\n",
       "      <td>7.0032</td>\n",
       "      <td>11.8540</td>\n",
       "    </tr>\n",
       "    <tr>\n",
       "      <th>4</th>\n",
       "      <td>1</td>\n",
       "      <td>5.8598</td>\n",
       "      <td>6.8233</td>\n",
       "    </tr>\n",
       "  </tbody>\n",
       "</table>\n",
       "</div>"
      ],
      "text/plain": [
       "   x0  x1-Population  y-Profit\n",
       "0   1         6.1101   17.5920\n",
       "1   1         5.5277    9.1302\n",
       "2   1         8.5186   13.6620\n",
       "3   1         7.0032   11.8540\n",
       "4   1         5.8598    6.8233"
      ]
     },
     "execution_count": 149,
     "metadata": {},
     "output_type": "execute_result"
    }
   ],
   "source": [
    "data = pd.read_csv('ex1data1.txt', names=['x1-Population', 'y-Profit'])\n",
    "\n",
    "# 训练集中添加一列，以便我们可以使用向量化的解决方案来计算代价和梯度。\n",
    "# data.insert() 第1个参数：位置，第2个参数：列名，第3个参数：值\n",
    "data.insert(0,'x0',1)  # x0 设为 1\n",
    "data.head()"
   ]
  },
  {
   "cell_type": "code",
   "execution_count": 150,
   "id": "9d49fb35",
   "metadata": {},
   "outputs": [
    {
     "data": {
      "text/plain": [
       "((97, 2), (2,), (97,))"
      ]
     },
     "execution_count": 150,
     "metadata": {},
     "output_type": "execute_result"
    }
   ],
   "source": [
    "cols = data.shape[1]          # data.shape = (97, 3)\n",
    "X = data.iloc[:, 0:cols-1]    # data.iloc[行:行,列:列]。此处为：取出所有行，并去掉最后一列\n",
    "y = data.iloc[:, -1]          # 取出最后一列\n",
    "theta = np.zeros(X.shape[1])  # 特征变量 theta 的个数为 X.shape[1]\n",
    "\n",
    "# 看下维度\n",
    "X.shape, theta.shape, y.shape"
   ]
  },
  {
   "cell_type": "code",
   "execution_count": 151,
   "id": "c6b7326f",
   "metadata": {},
   "outputs": [
    {
     "name": "stdout",
     "output_type": "stream",
     "text": [
      "6222.1103722264\n"
     ]
    },
    {
     "data": {
      "text/plain": [
       "32.07273387745567"
      ]
     },
     "execution_count": 151,
     "metadata": {},
     "output_type": "execute_result"
    }
   ],
   "source": [
    "# 计算代价函数\n",
    "computerCost(X, y, theta)"
   ]
  },
  {
   "cell_type": "markdown",
   "id": "a72d655d",
   "metadata": {},
   "source": [
    "# Batch Gradient Decent\n",
    "\n",
    "批量梯度下降，更新方程:\n",
    "\n",
    "$${{\\theta }_{j}}:={{\\theta }_{j}}-\\alpha \\frac{\\partial }{\\partial {{\\theta }_{j}}}J\\left( \\theta  \\right)$$"
   ]
  },
  {
   "cell_type": "code",
   "execution_count": null,
   "id": "8eeccbc6",
   "metadata": {},
   "outputs": [],
   "source": [
    "\"\"\"\n",
    "迭代训练所有样本\n",
    "\n",
    ":param X     训练集中 x0 和 x1-Population 的所有值\n",
    ":param y     训练集中 'y-Profit 的所有值\n",
    ":param theta 维度 1*2 的 matrix\n",
    ":param alpha 学习率\n",
    ":param iters 迭代次数\n",
    "\n",
    "\"\"\"\n",
    "def batchGradientDescent(X, y, theta, iters, alpha=0.01):\n",
    "    \n",
    "    # 初始化\n",
    "    tmp = np.matrix( np.zeros(theta.shape) ) # theta 初始化值为 0\n",
    "    parameters = int(  theta.shape[1] )      # theta 的列数表示参数的个数\n",
    "    cost = np.zeros(iters)                   # cost 初始化值为 iters 个 0\n",
    "    \n",
    "    # 迭代次数\n",
    "    for i in range(iters):\n",
    "        error = ( X * theta.T ) - y\n",
    "        \n",
    "        for j in range(parameters):\n",
    "            term = np.multiply( error, X[:, j])\n",
    "            temp[0,j] = theta[0,j] - "
   ]
  },
  {
   "cell_type": "code",
   "execution_count": null,
   "id": "efe74879",
   "metadata": {},
   "outputs": [],
   "source": []
  },
  {
   "cell_type": "code",
   "execution_count": null,
   "id": "bfa6e3aa",
   "metadata": {},
   "outputs": [],
   "source": []
  },
  {
   "cell_type": "code",
   "execution_count": null,
   "id": "29074268",
   "metadata": {},
   "outputs": [],
   "source": []
  }
 ],
 "metadata": {
  "kernelspec": {
   "display_name": "Python 3",
   "language": "python",
   "name": "python3"
  },
  "language_info": {
   "codemirror_mode": {
    "name": "ipython",
    "version": 3
   },
   "file_extension": ".py",
   "mimetype": "text/x-python",
   "name": "python",
   "nbconvert_exporter": "python",
   "pygments_lexer": "ipython3",
   "version": "3.8.8"
  },
  "toc": {
   "base_numbering": 1,
   "nav_menu": {},
   "number_sections": true,
   "sideBar": true,
   "skip_h1_title": false,
   "title_cell": "Table of Contents",
   "title_sidebar": "Contents",
   "toc_cell": false,
   "toc_position": {
    "height": "calc(100% - 180px)",
    "left": "10px",
    "top": "150px",
    "width": "426.667px"
   },
   "toc_section_display": true,
   "toc_window_display": true
  }
 },
 "nbformat": 4,
 "nbformat_minor": 5
}
