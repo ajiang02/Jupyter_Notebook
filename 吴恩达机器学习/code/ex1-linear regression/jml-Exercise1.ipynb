{
 "cells": [
  {
   "cell_type": "markdown",
   "id": "a5119b85",
   "metadata": {},
   "source": [
    "# Numpy矩阵库"
   ]
  },
  {
   "cell_type": "code",
   "execution_count": 17,
   "id": "4f6d6e70",
   "metadata": {},
   "outputs": [],
   "source": [
    "import numpy.matlib\n",
    "import numpy as np\n",
    "import pandas as pd"
   ]
  },
  {
   "cell_type": "markdown",
   "id": "cdef8c46",
   "metadata": {},
   "source": [
    "## eye()"
   ]
  },
  {
   "cell_type": "code",
   "execution_count": 50,
   "id": "0d743f22",
   "metadata": {},
   "outputs": [
    {
     "name": "stdout",
     "output_type": "stream",
     "text": [
      "[[1 0 0 0 0]\n",
      " [0 1 0 0 0]\n",
      " [0 0 1 0 0]\n",
      " [0 0 0 1 0]]\n"
     ]
    }
   ],
   "source": [
    "# 4*5，对角线为1的矩阵\n",
    "fiveByfiveMatrix = np.matlib.eye(4,5,0, dtype=np.int32)\n",
    "print(fiveByfiveMatrix)"
   ]
  },
  {
   "cell_type": "markdown",
   "id": "e9d89f0b",
   "metadata": {},
   "source": [
    "## ones()"
   ]
  },
  {
   "cell_type": "code",
   "execution_count": 49,
   "id": "dc942a08",
   "metadata": {},
   "outputs": [
    {
     "name": "stdout",
     "output_type": "stream",
     "text": [
      "[[1 1]\n",
      " [1 1]]\n"
     ]
    }
   ],
   "source": [
    "onesMatrix = np.matlib.ones((2,2), dtype=np.int32)\n",
    "print(onesMatrix)"
   ]
  },
  {
   "cell_type": "markdown",
   "id": "35346220",
   "metadata": {},
   "source": [
    "## zeros()"
   ]
  },
  {
   "cell_type": "code",
   "execution_count": 53,
   "id": "4d7ae4b2",
   "metadata": {},
   "outputs": [
    {
     "name": "stdout",
     "output_type": "stream",
     "text": [
      "[[0 0]\n",
      " [0 0]\n",
      " [0 0]]\n"
     ]
    }
   ],
   "source": [
    "zerosMatrix = np.matlib.zeros((3,2), dtype=np.int16)\n",
    "print(zerosMatrix)"
   ]
  },
  {
   "cell_type": "markdown",
   "id": "dd08dfa3",
   "metadata": {},
   "source": [
    "## identity()"
   ]
  },
  {
   "cell_type": "code",
   "execution_count": 42,
   "id": "7f4b6980",
   "metadata": {},
   "outputs": [
    {
     "data": {
      "text/plain": [
       "matrix([[1., 0., 0., 0., 0.],\n",
       "        [0., 1., 0., 0., 0.],\n",
       "        [0., 0., 1., 0., 0.],\n",
       "        [0., 0., 0., 1., 0.],\n",
       "        [0., 0., 0., 0., 1.]], dtype=float32)"
      ]
     },
     "execution_count": 42,
     "metadata": {},
     "output_type": "execute_result"
    }
   ],
   "source": [
    "# 5*5，单位矩阵\n",
    "IdentityMatrix = np.matlib.identity(5,dtype=np.float32)\n",
    "IdentityMatrix"
   ]
  },
  {
   "cell_type": "markdown",
   "id": "29b211f0",
   "metadata": {},
   "source": [
    "# 绘制散点图"
   ]
  },
  {
   "cell_type": "code",
   "execution_count": 113,
   "id": "d86c2cc7",
   "metadata": {},
   "outputs": [
    {
     "data": {
      "image/png": "[encoded data removed]",
      "text/plain": [
       "<Figure size 1080x576 with 1 Axes>"
      ]
     },
     "metadata": {
      "needs_background": "light"
     },
     "output_type": "display_data"
    }
   ],
   "source": [
    "# 读取文件，默认以第一行数据作为表头，故需要指定 names\n",
    "demo = pd.read_csv('ex1data1.txt', names=['Population', 'Profit'])\n",
    "\n",
    "# 数据集前几条\n",
    "# data.head()\n",
    "\n",
    "# 数据详情\n",
    "#data.describe()\n",
    "\n",
    "# api文档：https://www.gairuo.com/p/pandas-tutorial\n",
    "# x y 的值要和 names 一样\n",
    "df = demo.plot.scatter(x='Population', y='Profit', figsize=(15,8))"
   ]
  },
  {
   "cell_type": "markdown",
   "id": "ca1883c4",
   "metadata": {},
   "source": [
    "# Gradient Descent"
   ]
  },
  {
   "cell_type": "markdown",
   "id": "904968aa",
   "metadata": {},
   "source": [
    "## Cost Function\n",
    "\n",
    "以参数 θ 为特征函数的代价函数\n",
    "$$J\\left( \\theta  \\right)=\\frac{1}{2m}\\sum\\limits_{i=1}^{m}{{{\\left( {{h}_{\\theta }}\\left( {{x}^{(i)}} \\right)-{{y}^{(i)}} \\right)}^{2}}}$$\n",
    "\n",
    "## Hypothesis Function\n",
    "\\\\[{{h}_{\\theta }}\\left( x \\right)={{\\theta }^{T}}X={{\\theta }_{0}}{{x}_{0}}+{{\\theta }_{1}}{{x}_{1}}+{{\\theta }_{2}}{{x}_{2}}+...+{{\\theta }_{n}}{{x}_{n}}\\\\] "
   ]
  },
  {
   "cell_type": "markdown",
   "id": "1fdea5a6",
   "metadata": {},
   "source": [
    "# 单变量线性回归"
   ]
  },
  {
   "cell_type": "code",
   "execution_count": 159,
   "id": "a88e5182",
   "metadata": {},
   "outputs": [],
   "source": [
    "import numpy as np\n",
    "import pandas as pd\n",
    "\n",
    "\"\"\"\n",
    "实现代价函数\n",
    "\n",
    ":param X     训练集中 x0 和 x1-Population 的所有值\n",
    ":param y     训练集中 'y-Profit 的所有值\n",
    ":param theta 特征变量，初始值为 [0 ,0]\n",
    "\"\"\"\n",
    "def computerCost(X, y, theta):\n",
    "    \n",
    "    inner = X @ theta - y        # X @ theta 表叉乘\n",
    "    square_sum = inner.T @ inner # 求平方和\n",
    "\n",
    "    return square_sum / (2 * len(X))  # len(X) 等于样本数 m"
   ]
  },
  {
   "cell_type": "code",
   "execution_count": 160,
   "id": "a7440353",
   "metadata": {},
   "outputs": [
    {
     "name": "stdout",
     "output_type": "stream",
     "text": [
      "   x0  x1-Population  y-Profit\n",
      "0   1         6.1101   17.5920\n",
      "1   1         5.5277    9.1302\n",
      "2   1         8.5186   13.6620\n",
      "3   1         7.0032   11.8540\n",
      "4   1         5.8598    6.8233\n",
      "(97, 2) (2,) (97,)\n"
     ]
    },
    {
     "data": {
      "text/plain": [
       "32.07273387745567"
      ]
     },
     "execution_count": 160,
     "metadata": {},
     "output_type": "execute_result"
    }
   ],
   "source": [
    "data = pd.read_csv('ex1data1.txt', names=['x1-Population', 'y-Profit'])\n",
    "\n",
    "# 训练集中添加一列，以便我们可以使用向量化的解决方案来计算代价和梯度。\n",
    "data.insert(0,'x0',1)  # data.insert(位置,列名,值) ，x0 设为 1\n",
    "print(data.head())\n",
    "\n",
    "\n",
    "cols = data.shape[1]                 # data.shape = (97, 3)\n",
    "X = data.iloc[:, 0:cols-1]           # data.iloc[行:行,列:列]。此处为：取出所有行，并去掉最后一列\n",
    "y = data.iloc[:, -1]                 # 取出最后一列\n",
    "theta = np.zeros(X.shape[1])         # 特征变量 theta 的个数为 X.shape[1]\n",
    "print(X.shape, theta.shape, y.shape) # 看下维度\n",
    "\n",
    "\n",
    "# 计算代价函数\n",
    "computerCost(X, y, theta)"
   ]
  },
  {
   "cell_type": "markdown",
   "id": "a72d655d",
   "metadata": {},
   "source": [
    "# Batch Gradient Decent\n",
    "\n",
    "批量梯度下降的更新方程:\n",
    "\n",
    "$${{\\theta }_{j}}:={{\\theta }_{j}}-\\alpha \\frac{\\partial }{\\partial {{\\theta }_{j}}}J\\left( \\theta  \\right)$$ \n",
    "注：此处的 θ 为行向量，j = 0,1,...,n \n",
    "\n",
    "\n",
    "$${{\\theta }_{j}}:= {{\\theta }_{j}} - \\alpha  \\frac{1}{m}\\sum\\limits_{i=1}^{m}{{{\\left( {{h}_{\\theta }}\\left( {{x}^{(i)}} \\right)-{{y}^{(i)}} \\right)} {x}^{(i)}_{j}}}$$"
   ]
  },
  {
   "cell_type": "code",
   "execution_count": 105,
   "id": "e2729eba",
   "metadata": {},
   "outputs": [],
   "source": [
    "\"\"\"\n",
    "计算偏导值\n",
    "\n",
    ":param X     (m,n)，m-样本数，n-特征变量数\n",
    ":param y     (m,1)\n",
    ":param theta (n,1)\n",
    "\"\"\"\n",
    "def gradient(X, y, theta):\n",
    "    m = X.shape[0] \n",
    "    \n",
    "    # X @ theta   => (m,n) @ (n,1) => (m,1)\n",
    "    # X.T @ (m,1) => (n,m) @ (m,1) => (n,1)\n",
    "    inner = X.T @ (X @ theta - y)\n",
    "    \n",
    "    return inner / m"
   ]
  },
  {
   "cell_type": "code",
   "execution_count": 106,
   "id": "8eeccbc6",
   "metadata": {},
   "outputs": [],
   "source": [
    "\"\"\"\n",
    "批量梯度下降\n",
    "\n",
    ":param X     (m,n)，m-样本数，n-特征变量数\n",
    ":param y     (m,1)\n",
    ":param theta (n,1)\n",
    ":param alpha 学习率\n",
    ":param iters 迭代次数\n",
    "\"\"\"\n",
    "def batchGradientDescent(X, y, theta, iters, alpha=0.01):\n",
    "    \n",
    "    cost_data = [] # 存储代价函数收敛值\n",
    "    \n",
    "    for _ in range(iters):\n",
    "        theta = theta - alpha * gradient(X, y, theta) # 更新方程\n",
    "        cost_data.append(computerCost(X, y, theta))   \n",
    "        \n",
    "    return theta, cost_data"
   ]
  },
  {
   "cell_type": "code",
   "execution_count": 107,
   "id": "efe74879",
   "metadata": {},
   "outputs": [
    {
     "data": {
      "text/plain": [
       "array([-2.28286727,  1.03099898])"
      ]
     },
     "execution_count": 107,
     "metadata": {},
     "output_type": "execute_result"
    }
   ],
   "source": [
    "iters = 500\n",
    "final_theta, cost_data = batchGradientDescent(X, y, theta, iters)\n",
    "\n",
    "#cost_data\n",
    "final_theta.values"
   ]
  },
  {
   "cell_type": "code",
   "execution_count": 108,
   "id": "bfa6e3aa",
   "metadata": {},
   "outputs": [
    {
     "data": {
      "text/plain": [
       "4.7138095311168655"
      ]
     },
     "execution_count": 108,
     "metadata": {},
     "output_type": "execute_result"
    }
   ],
   "source": [
    "computerCost(X, y, final_theta)"
   ]
  },
  {
   "cell_type": "markdown",
   "id": "c2897f16",
   "metadata": {},
   "source": [
    "# 数据可视化"
   ]
  },
  {
   "cell_type": "markdown",
   "id": "2021ac7a",
   "metadata": {},
   "source": [
    "## 训练集与预测函数"
   ]
  },
  {
   "cell_type": "code",
   "execution_count": 137,
   "id": "88b54bdb",
   "metadata": {},
   "outputs": [
    {
     "data": {
      "image/png": "[encoded data removed]",
      "text/plain": [
       "<Figure size 1080x576 with 1 Axes>"
      ]
     },
     "metadata": {
      "needs_background": "light"
     },
     "output_type": "display_data"
    }
   ],
   "source": [
    "import matplotlib.pyplot as plt\n",
    "\n",
    "training = pd.read_csv('ex1data1.txt', names=['Population', 'Profit'])\n",
    "\n",
    "intercept = final_theta[0] # 截距\n",
    "slope = final_theta[1]     # 斜率\n",
    "\n",
    "plt.figure(figsize=(15,8))                                                               # 图像大小\n",
    "plt.title(\"Training Data And Prediction\")                                                # 图像标题\n",
    "plt.xlabel(\"Population\")                                                                 # X 轴\n",
    "plt.ylabel(\"Profit\")                                                                     # Y 轴\n",
    "plt.scatter(training.Population, training.Profit, label=\"Training Data\")                 # 散点图\n",
    "plt.plot(training.Population, training.Population*slope+intercept, label=\"Prediction\")   # 折现图\n",
    "plt.legend(loc=2)                                                                        # 图例位置，2-左上\n",
    "plt.show()"
   ]
  },
  {
   "cell_type": "markdown",
   "id": "ae052817",
   "metadata": {},
   "source": [
    "## 代价与迭代次数\n",
    "\n",
    "由于梯度方程式函数也在每个训练迭代中输出一个代价的向量，所以我们也可以绘制。 请注意，代价总是降低 - 这是凸优化问题的一个例子。"
   ]
  },
  {
   "cell_type": "code",
   "execution_count": 140,
   "id": "77ab85a7",
   "metadata": {},
   "outputs": [
    {
     "data": {
      "text/plain": [
       "[<matplotlib.lines.Line2D at 0x7f71d129a6a0>]"
      ]
     },
     "execution_count": 140,
     "metadata": {},
     "output_type": "execute_result"
    },
    {
     "data": {
      "image/png": "[encoded data removed]",
      "text/plain": [
       "<Figure size 1080x576 with 1 Axes>"
      ]
     },
     "metadata": {
      "needs_background": "light"
     },
     "output_type": "display_data"
    }
   ],
   "source": [
    "plt.figure(figsize=(15,8))  \n",
    "plt.title(\"Cost Data And Iterations\") \n",
    "plt.xlabel(\"Iterations\") \n",
    "plt.ylabel(\"Cost\") \n",
    "plt.plot(np.arange(iters), cost_data, 'r')"
   ]
  },
  {
   "cell_type": "markdown",
   "id": "020b889e",
   "metadata": {},
   "source": [
    "# 多变量线性回归"
   ]
  },
  {
   "cell_type": "markdown",
   "id": "aac591e1",
   "metadata": {},
   "source": [
    "## 特征归一化\n",
    "\n",
    "练习1还包括一个房屋价格数据集，其中有2个变量（房子的大小，卧室的数量）和目标（房子的价格）。 我们使用我们已经应用的技术来分析数据集。"
   ]
  },
  {
   "cell_type": "code",
   "execution_count": 203,
   "id": "1a632004",
   "metadata": {},
   "outputs": [
    {
     "name": "stdout",
     "output_type": "stream",
     "text": [
      "【data2数据】\n",
      "    x1-square  x2-bedrooms  y-profit\n",
      "0       2104            3    399900\n",
      "1       1600            3    329900\n",
      "2       2400            3    369000\n",
      "3       1416            2    232000\n",
      "4       3000            4    539900 \n",
      "\n",
      "\n",
      "【data2数据描述】\n",
      "          x1-square  x2-bedrooms       y-profit\n",
      "count    47.000000    47.000000      47.000000\n",
      "mean   2000.680851     3.170213  340412.659574\n",
      "std     794.702354     0.760982  125039.899586\n",
      "min     852.000000     1.000000  169900.000000\n",
      "25%    1432.000000     3.000000  249900.000000\n",
      "50%    1888.000000     3.000000  299900.000000\n",
      "75%    2269.000000     4.000000  384450.000000\n",
      "max    4478.000000     5.000000  699900.000000 \n",
      "\n",
      "\n",
      "【data2特征归一化】\n",
      "    x0  x1-square  x2-bedrooms  y-profit\n",
      "0   1   0.130010    -0.223675  0.475747\n",
      "1   1  -0.504190    -0.223675 -0.084074\n",
      "2   1   0.502476    -0.223675  0.228626\n",
      "3   1  -0.735723    -1.537767 -0.867025\n",
      "4   1   1.257476     1.090417  1.595389 \n",
      "\n",
      "\n"
     ]
    }
   ],
   "source": [
    "data2 = pd.read_csv(\"ex1data2.txt\", names=['x1-square', 'x2-bedrooms', 'y-profit'])\n",
    "print(\"【data2数据】\\n\", data2.head(), \"\\n\\n\")\n",
    "print(\"【data2数据描述】\\n\", data2.describe(), \"\\n\\n\")\n",
    "\n",
    "# mean() 平均值，std() 标准差\n",
    "data2 = (data2 - data2.mean()) / data2.std()\n",
    "data2.insert(0,'x0',1)\n",
    "print(\"【data2特征归一化】\\n\", data2.head(), \"\\n\\n\")"
   ]
  },
  {
   "cell_type": "code",
   "execution_count": 205,
   "id": "fa1af9c4",
   "metadata": {},
   "outputs": [
    {
     "name": "stdout",
     "output_type": "stream",
     "text": [
      "[-1.18876540e-16  8.30383883e-01  8.23982853e-04]\n"
     ]
    },
    {
     "data": {
      "text/plain": [
       "0.13195133775794732"
      ]
     },
     "execution_count": 205,
     "metadata": {},
     "output_type": "execute_result"
    }
   ],
   "source": [
    "# 数据集切片\n",
    "cols = data2.shape[1]\n",
    "X2 = data2.iloc[:, 0:cols-1]\n",
    "y2 = data2.iloc[:, -1]\n",
    "theta = np.zeros(X2.shape[1])\n",
    "\n",
    "# 批量递归下降\n",
    "iters = 500\n",
    "final_theta, cost_data = batchGradientDescent(X2, y2, theta, iters)\n",
    "print(final_theta.values)\n",
    "\n",
    "computerCost(X2, y2, final_theta)"
   ]
  },
  {
   "cell_type": "markdown",
   "id": "86b4302b",
   "metadata": {},
   "source": [
    "## 训练集与预测函数"
   ]
  },
  {
   "cell_type": "code",
   "execution_count": null,
   "id": "c84fd575",
   "metadata": {},
   "outputs": [],
   "source": [
    "import matplotlib.pyplot as plt\n",
    "\n",
    "intercept = final_theta[0] # 截距\n",
    "slope = final_theta[1]     # 斜率\n",
    "\n",
    "plt.figure(figsize=(15,8))                                                               # 图像大小\n",
    "plt.title(\"Training Data And Prediction\")                                                # 图像标题\n",
    "plt.xlabel(\"Population\")                                                                 # X 轴\n",
    "plt.ylabel(\"Profit\")                                                                     # Y 轴\n",
    "plt.scatter(data2.Population, training.Profit, label=\"Training Data\")                 # 散点图\n",
    "plt.plot(training.Population, training.Population*slope+intercept, label=\"Prediction\")   # 折现图\n",
    "plt.legend(loc=2)                                                                        # 图例位置，2-左上\n",
    "plt.show()"
   ]
  },
  {
   "cell_type": "markdown",
   "id": "94901577",
   "metadata": {},
   "source": [
    "## 代价与迭代次数"
   ]
  },
  {
   "cell_type": "code",
   "execution_count": 206,
   "id": "e86c0298",
   "metadata": {
    "scrolled": false
   },
   "outputs": [
    {
     "data": {
      "text/plain": [
       "[<matplotlib.lines.Line2D at 0x7f71d12bc760>]"
      ]
     },
     "execution_count": 206,
     "metadata": {},
     "output_type": "execute_result"
    },
    {
     "data": {
      "image/png": "[encoded data removed]",
      "text/plain": [
       "<Figure size 1080x576 with 1 Axes>"
      ]
     },
     "metadata": {
      "needs_background": "light"
     },
     "output_type": "display_data"
    }
   ],
   "source": [
    "plt.figure(figsize=(15,8))  \n",
    "plt.title(\"Cost Data And Iterations\") \n",
    "plt.xlabel(\"Iterations\") \n",
    "plt.ylabel(\"Cost\") \n",
    "plt.plot(np.arange(iters), cost_data, 'r')\n"
   ]
  },
  {
   "cell_type": "code",
   "execution_count": null,
   "id": "bc31e577",
   "metadata": {},
   "outputs": [],
   "source": []
  }
 ],
 "metadata": {
  "kernelspec": {
   "display_name": "Python 3",
   "language": "python",
   "name": "python3"
  },
  "language_info": {
   "codemirror_mode": {
    "name": "ipython",
    "version": 3
   },
   "file_extension": ".py",
   "mimetype": "text/x-python",
   "name": "python",
   "nbconvert_exporter": "python",
   "pygments_lexer": "ipython3",
   "version": "3.8.8"
  },
  "toc": {
   "base_numbering": 1,
   "nav_menu": {},
   "number_sections": true,
   "sideBar": true,
   "skip_h1_title": false,
   "title_cell": "Table of Contents",
   "title_sidebar": "Contents",
   "toc_cell": false,
   "toc_position": {
    "height": "calc(100% - 180px)",
    "left": "10px",
    "top": "150px",
    "width": "426.667px"
   },
   "toc_section_display": true,
   "toc_window_display": true
  }
 },
 "nbformat": 4,
 "nbformat_minor": 5
}
